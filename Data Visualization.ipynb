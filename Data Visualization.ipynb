{
 "cells": [
  {
   "cell_type": "code",
   "execution_count": 4,
   "id": "84c5d7b4",
   "metadata": {},
   "outputs": [],
   "source": [
    "import numpy as np\n",
    "import pandas as pd\n",
    "import matplotlib.pyplot as plt\n",
    "import seaborn as sns\n",
    "%matplotlib inline"
   ]
  },
  {
   "cell_type": "code",
   "execution_count": 6,
   "id": "b614982b",
   "metadata": {},
   "outputs": [],
   "source": [
    "pl23 = pd.read_csv('epl_results_2022-23.csv')"
   ]
  },
  {
   "cell_type": "code",
   "execution_count": 7,
   "id": "8f41bf4f",
   "metadata": {},
   "outputs": [
    {
     "name": "stdout",
     "output_type": "stream",
     "text": [
      "           Date   Time        HomeTeam     AwayTeam  FTHG  FTAG FTR  HTHG  \\\n",
      "0    05/08/2022  20:00  Crystal Palace      Arsenal     0     2   A     0   \n",
      "1    06/08/2022  12:30          Fulham    Liverpool     2     2   D     1   \n",
      "2    06/08/2022  15:00     Bournemouth  Aston Villa     2     0   H     1   \n",
      "3    06/08/2022  15:00           Leeds       Wolves     2     1   H     1   \n",
      "4    06/08/2022  15:00       Newcastle   Nottingham     2     0   H     0   \n",
      "..          ...    ...             ...          ...   ...   ...  ..   ...   \n",
      "375  28/05/2023  16:30         Everton  Bournemouth     1     0   H     0   \n",
      "376  28/05/2023  16:30           Leeds    Tottenham     1     4   A     0   \n",
      "377  28/05/2023  16:30       Leicester     West Ham     2     1   H     1   \n",
      "378  28/05/2023  16:30      Man United       Fulham     2     1   H     1   \n",
      "379  28/05/2023  16:30     Southampton    Liverpool     4     4   D     2   \n",
      "\n",
      "     HTAG HTR  ... HST  AST  HF  AF  HC  AC  HY  AY  HR  AR  \n",
      "0       1   A  ...   2    2  16  11   3   5   1   2   0   0  \n",
      "1       0   H  ...   3    4   7   9   4   4   2   0   0   0  \n",
      "2       0   H  ...   3    2  18  16   5   5   3   3   0   0  \n",
      "3       1   D  ...   4    6  13   9   6   4   2   0   0   0  \n",
      "4       0   D  ...  10    0   9  14  11   1   0   3   0   0  \n",
      "..    ...  ..  ...  ..  ...  ..  ..  ..  ..  ..  ..  ..  ..  \n",
      "375     0   D  ...   6    2  11  12   9   3   1   3   0   0  \n",
      "376     1   A  ...   2    7   7   5  12   3   3   0   0   0  \n",
      "377     0   H  ...   4    3   8  10   3   5   1   1   0   0  \n",
      "378     1   D  ...   8    3  14  10   5   4   1   2   0   0  \n",
      "379     2   D  ...  10    8   4  10   2   9   0   2   0   0  \n",
      "\n",
      "[380 rows x 23 columns]\n"
     ]
    }
   ],
   "source": [
    "print(pl23)"
   ]
  },
  {
   "cell_type": "code",
   "execution_count": null,
   "id": "cb400200",
   "metadata": {},
   "outputs": [],
   "source": []
  }
 ],
 "metadata": {
  "kernelspec": {
   "display_name": "Python 3 (ipykernel)",
   "language": "python",
   "name": "python3"
  },
  "language_info": {
   "codemirror_mode": {
    "name": "ipython",
    "version": 3
   },
   "file_extension": ".py",
   "mimetype": "text/x-python",
   "name": "python",
   "nbconvert_exporter": "python",
   "pygments_lexer": "ipython3",
   "version": "3.9.7"
  }
 },
 "nbformat": 4,
 "nbformat_minor": 5
}
